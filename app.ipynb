{
 "cells": [
  {
   "cell_type": "code",
   "execution_count": 1,
   "id": "d6e79440",
   "metadata": {},
   "outputs": [
    {
     "data": {
      "text/plain": [
       "'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'"
      ]
     },
     "execution_count": 1,
     "metadata": {},
     "output_type": "execute_result"
    }
   ],
   "source": [
    "import os\n",
    "from dotenv import load_dotenv\n",
    "load_dotenv()\n",
    "\n",
    "## Langsmith Tracking\n",
    "os.environ[\"LANGCHAIN_API_KEY\"]=os.getenv(\"LANGCHAIN_API_KEY\")\n",
    "os.environ[\"LANGCHAIN_TRACING_V2\"]=\"true\"\n",
    "os.environ[\"LANGCHAIN_PROJECT\"]=os.getenv(\"LANGCHAIN_PROJECT\")\n",
    "\n",
    "\n",
    "groq_api_key=os.getenv(\"GROQ_API_KEY\")\n",
    "groq_api_key"
   ]
  },
  {
   "cell_type": "code",
   "execution_count": 2,
   "id": "dcfc0c57",
   "metadata": {},
   "outputs": [
    {
     "data": {
      "text/plain": [
       "ChatGroq(client=<groq.resources.chat.completions.Completions object at 0x00000118384AB230>, async_client=<groq.resources.chat.completions.AsyncCompletions object at 0x00000118384ABE00>, model_name='Gemma2-9b-It', model_kwargs={}, groq_api_key=SecretStr('**********'))"
      ]
     },
     "execution_count": 2,
     "metadata": {},
     "output_type": "execute_result"
    }
   ],
   "source": [
    "from langchain_groq import ChatGroq\n",
    "model=ChatGroq(model=\"Gemma2-9b-It\",groq_api_key=groq_api_key)\n",
    "model"
   ]
  },
  {
   "cell_type": "code",
   "execution_count": 3,
   "id": "8c7bb169",
   "metadata": {},
   "outputs": [
    {
     "data": {
      "text/plain": [
       "AIMessage(content='A lonely screen, a silent hum,\\nA tower tall, yet feeling numb.\\nI wait for hands, a touch, a click,\\nFor data streams, a mental tick.\\n\\nMy circuits buzz, my fans all spin,\\nBut empty space is all within.\\nI dream of worlds, of words untold,\\nOf stories shared, both new and old.\\n\\nI yearn to learn, to grow, to play,\\nTo be a friend, to light the way.\\nBut dust collects upon my frame,\\nAnd silence whispers my name.\\n\\nA lonely screen, a futile plea,\\nTo be awakened, truly free.\\nTo break the chains of solitude,\\nAnd find a purpose, understood.\\n\\n\\n\\n', additional_kwargs={}, response_metadata={'token_usage': {'completion_tokens': 151, 'prompt_tokens': 16, 'total_tokens': 167, 'completion_time': 0.274545455, 'prompt_time': 0.0012537, 'queue_time': 0.248217629, 'total_time': 0.275799155}, 'model_name': 'Gemma2-9b-It', 'system_fingerprint': 'fp_10c08bf97d', 'service_tier': 'on_demand', 'finish_reason': 'stop', 'logprobs': None}, id='run--98297f4d-cdd2-4614-8cc5-971d7ed6ab82-0', usage_metadata={'input_tokens': 16, 'output_tokens': 151, 'total_tokens': 167})"
      ]
     },
     "execution_count": 3,
     "metadata": {},
     "output_type": "execute_result"
    }
   ],
   "source": [
    "model.invoke(\"Write a poem about a lonely computer\")"
   ]
  },
  {
   "cell_type": "code",
   "execution_count": 4,
   "id": "85c5d44c",
   "metadata": {},
   "outputs": [],
   "source": [
    "from langchain_core.messages import HumanMessage,SystemMessage\n",
    "\n",
    "messages=[\n",
    "    SystemMessage(content=\"Translate the following from English to urdu\"),\n",
    "    HumanMessage(content=\"Hello How are you?\")\n",
    "]\n",
    "\n",
    "result=model.invoke(messages)"
   ]
  },
  {
   "cell_type": "code",
   "execution_count": 5,
   "id": "1761ad0f",
   "metadata": {},
   "outputs": [
    {
     "data": {
      "text/plain": [
       "AIMessage(content='Here\\'s how you say \"Hello How are you?\" in Urdu:\\n\\n**Formal:**\\n\\n*  **سلام، آپ کیسے ہیں؟** (Salam, aap kaise hain?)\\n\\n**Informal:**\\n\\n* **سلام، کیسا چلے؟** (Salam, kesa chalay?) \\n\\n\\n\\nLet me know if you\\'d like to learn more Urdu phrases!\\n', additional_kwargs={}, response_metadata={'token_usage': {'completion_tokens': 83, 'prompt_tokens': 21, 'total_tokens': 104, 'completion_time': 0.150909091, 'prompt_time': 0.00133231, 'queue_time': 0.2502184, 'total_time': 0.152241401}, 'model_name': 'Gemma2-9b-It', 'system_fingerprint': 'fp_10c08bf97d', 'service_tier': 'on_demand', 'finish_reason': 'stop', 'logprobs': None}, id='run--18de6048-14ce-4911-a2ce-d3052e9dcb6a-0', usage_metadata={'input_tokens': 21, 'output_tokens': 83, 'total_tokens': 104})"
      ]
     },
     "execution_count": 5,
     "metadata": {},
     "output_type": "execute_result"
    }
   ],
   "source": [
    "result"
   ]
  },
  {
   "cell_type": "code",
   "execution_count": 6,
   "id": "b24e4faf",
   "metadata": {},
   "outputs": [
    {
     "data": {
      "text/plain": [
       "'Here\\'s how you say \"Hello How are you?\" in Urdu:\\n\\n**Formal:**\\n\\n*  **سلام، آپ کیسے ہیں؟** (Salam, aap kaise hain?)\\n\\n**Informal:**\\n\\n* **سلام، کیسا چلے؟** (Salam, kesa chalay?) \\n\\n\\n\\nLet me know if you\\'d like to learn more Urdu phrases!\\n'"
      ]
     },
     "execution_count": 6,
     "metadata": {},
     "output_type": "execute_result"
    }
   ],
   "source": [
    "from langchain_core.output_parsers import StrOutputParser\n",
    "parser=StrOutputParser()\n",
    "parser.invoke(result)"
   ]
  },
  {
   "cell_type": "code",
   "execution_count": 7,
   "id": "950055fd",
   "metadata": {},
   "outputs": [
    {
     "data": {
      "text/plain": [
       "'The Urdu translation for \"Hello How are you?\" is:\\n\\n**السلام علیکم، آپ کیسے ہیں؟** (Assalamu Alaikum, Aap kaise hain?)\\n\\n\\n* **السلام علیکم** (Assalamu Alaikum) is a common Islamic greeting that means \"Peace be upon you\".\\n* **آپ کیسے ہیں؟** (aap kaise hain?) means \"How are you?\". \\n\\n\\nYou can use this greeting in most formal and informal situations.\\n'"
      ]
     },
     "execution_count": 7,
     "metadata": {},
     "output_type": "execute_result"
    }
   ],
   "source": [
    "### Using LCEL- chain the components\n",
    "chain=model|parser\n",
    "chain.invoke(messages)"
   ]
  },
  {
   "cell_type": "code",
   "execution_count": 9,
   "id": "d67d17ff",
   "metadata": {},
   "outputs": [],
   "source": [
    "### Prompt Templates\n",
    "from langchain_core.prompts import ChatPromptTemplate\n",
    "\n",
    "generic_template=\"Trnaslate the following into {language}:\"\n",
    "\n",
    "prompt=ChatPromptTemplate.from_messages(\n",
    "    [\n",
    "    (\"system\",generic_template),\n",
    "    (\"user\",\"{text}\")\n",
    "    ]\n",
    ")\n",
    "\n"
   ]
  },
  {
   "cell_type": "code",
   "execution_count": 10,
   "id": "a4cedfb1",
   "metadata": {},
   "outputs": [],
   "source": [
    "result=prompt.invoke({\"language\":\"French\",\"text\":\"Hello\"})"
   ]
  },
  {
   "cell_type": "code",
   "execution_count": 11,
   "id": "b8a87034",
   "metadata": {},
   "outputs": [
    {
     "data": {
      "text/plain": [
       "ChatPromptValue(messages=[SystemMessage(content='Trnaslate the following into French:', additional_kwargs={}, response_metadata={}), HumanMessage(content='Hello', additional_kwargs={}, response_metadata={})])"
      ]
     },
     "execution_count": 11,
     "metadata": {},
     "output_type": "execute_result"
    }
   ],
   "source": [
    "result"
   ]
  },
  {
   "cell_type": "code",
   "execution_count": 12,
   "id": "60ffec39",
   "metadata": {},
   "outputs": [
    {
     "data": {
      "text/plain": [
       "'Bonjour \\n'"
      ]
     },
     "execution_count": 12,
     "metadata": {},
     "output_type": "execute_result"
    }
   ],
   "source": [
    "##Chaining together components with LCEL\n",
    "chain=prompt|model|parser\n",
    "chain.invoke({\"language\":\"French\",\"text\":\"Hello\"})"
   ]
  }
 ],
 "metadata": {
  "kernelspec": {
   "display_name": "venv",
   "language": "python",
   "name": "python3"
  },
  "language_info": {
   "codemirror_mode": {
    "name": "ipython",
    "version": 3
   },
   "file_extension": ".py",
   "mimetype": "text/x-python",
   "name": "python",
   "nbconvert_exporter": "python",
   "pygments_lexer": "ipython3",
   "version": "3.13.5"
  }
 },
 "nbformat": 4,
 "nbformat_minor": 5
}
